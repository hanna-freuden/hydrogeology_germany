{
 "cells": [
  {
   "cell_type": "markdown",
   "metadata": {},
   "source": [
    "# Data Exploration"
   ]
  },
  {
   "cell_type": "markdown",
   "metadata": {},
   "source": [
    "This notebooks explores several spatial datasets related to groundwater resources and hydro-geological formations in Germany.\n",
    "\n",
    "A summary and interpretation of the results is included at the end of each section."
   ]
  },
  {
   "cell_type": "markdown",
   "metadata": {},
   "source": [
    "unique datasets: \n",
    "-   bergbaugebiete_v1_poly\n",
    "-   gwerg_erg_v11_poly\n",
    "-   gwerg_gestein_v1_poly\n",
    "-   gwerg__v11_poly\n",
    "-   uferfiltrat_v1_poly\n",
    "-   uferfiltrat_v1_line"
   ]
  },
  {
   "cell_type": "code",
   "execution_count": 1,
   "metadata": {},
   "outputs": [],
   "source": [
    "# Import necessary packages\n",
    "from dbfread import DBF\n",
    "import geopandas as gpd\n",
    "import matplotlib.pyplot as plt\n",
    "%matplotlib inline\n",
    "import os\n",
    "import pandas as pd\n",
    "from pyhere import here\n",
    "from pyproj import CRS"
   ]
  },
  {
   "cell_type": "markdown",
   "metadata": {},
   "source": [
    "### 1. Load the provided datasets"
   ]
  },
  {
   "cell_type": "code",
   "execution_count": null,
   "metadata": {},
   "outputs": [],
   "source": [
    "# datasets not provided as csvs. \n",
    "# screen folder for .dbf, .shp, and .prj files, load as (geo)pandas dfs, save (g)dfs in dicts with filenames as keys\n",
    "dfs = {}\n",
    "gdfs = {}\n",
    "crss = {}\n",
    "folder_path = here(\"ERGW1000/ERGW1000_v1/shp\")\n",
    "for file in os.listdir(folder_path):\n",
    "    if file.endswith(\".dbf\"):\n",
    "        # create short filename\n",
    "        filename = file.replace(\"ergw1000_\", \"\").replace(\".dbf\", \"\")\n",
    "        path_to_file = os.path.join(folder_path, file)\n",
    "        table = DBF(path_to_file, load=True,  encoding=\"utf-8\")\n",
    "        #convert to pandas df\n",
    "        df = pd.DataFrame(iter(table))\n",
    "        #save to dict\n",
    "        dfs[filename] = df\n",
    "    if file.endswith(\".shp\"):\n",
    "        # create short filename\n",
    "        filename = file.replace(\"ergw1000_\", \"\").replace(\".shp\", \"\")\n",
    "        path_to_shapefile = os.path.join(folder_path, file)\n",
    "        gdf = gpd.read_file(path_to_shapefile)\n",
    "        #save to dict\n",
    "        gdfs[filename] = gdf\n",
    "    if file.endswith(\".prj\"):  \n",
    "        # to make sure that EPSG code and projection type align\n",
    "        # create short filename\n",
    "        filename = file.replace(\"ergw1000_\", \"\").replace(\".shp\", \"\")\n",
    "        path_to_prjfile = os.path.join(folder_path, file) \n",
    "        prj = open(path_to_prjfile).read()\n",
    "        crs = CRS.from_wkt(prj)\n",
    "        crss[filename]=crs\n"
   ]
  },
  {
   "cell_type": "markdown",
   "metadata": {},
   "source": [
    "### 2. Perform EDA"
   ]
  },
  {
   "cell_type": "markdown",
   "metadata": {},
   "source": [
    "#### 2.1 Check the structure, missing values, and basic statistics of each dataset\n",
    "\n",
    "\n",
    "#### 2.2​ Identify unique values for key categorical features"
   ]
  },
  {
   "cell_type": "code",
   "execution_count": 3,
   "metadata": {},
   "outputs": [],
   "source": [
    "# summary function\n",
    "\n",
    "def make_summary(file: str):\n",
    "    '''Creates summary stats of file.\n",
    "    \n",
    "    input: filename\n",
    "    \n",
    "    output: summary stats'''\n",
    "\n",
    "    df = dfs[file]\n",
    "    print(\"Dataset:\", file)\n",
    "    print(\"\")\n",
    "    # general stats\n",
    "    display(df.info())\n",
    "    display(df.describe())\n",
    "    # missings\n",
    "    print(\"Missing values\")\n",
    "    display(df.isnull().sum())\n",
    "    if df.select_dtypes(['object']).shape[1] > 0:\n",
    "        #unique values of categorical features\n",
    "        print('unique values categorical features')\n",
    "        if 'bedeutung' in df.columns:\n",
    "            cat_cols = list(df.select_dtypes(['object']).columns)\n",
    "            id_cols = [c for c in df.columns if '_id' in c]\n",
    "            display(df.groupby(id_cols + cat_cols).size().reset_index(name='count'))\n",
    "        else:\n",
    "            display(df.select_dtypes(['object']).value_counts())"
   ]
  },
  {
   "cell_type": "code",
   "execution_count": 4,
   "metadata": {},
   "outputs": [
    {
     "data": {
      "text/html": [
       "<div>\n",
       "<style scoped>\n",
       "    .dataframe tbody tr th:only-of-type {\n",
       "        vertical-align: middle;\n",
       "    }\n",
       "\n",
       "    .dataframe tbody tr th {\n",
       "        vertical-align: top;\n",
       "    }\n",
       "\n",
       "    .dataframe thead th {\n",
       "        text-align: right;\n",
       "    }\n",
       "</style>\n",
       "<table border=\"1\" class=\"dataframe\">\n",
       "  <thead>\n",
       "    <tr style=\"text-align: right;\">\n",
       "      <th></th>\n",
       "      <th>0</th>\n",
       "    </tr>\n",
       "  </thead>\n",
       "  <tbody>\n",
       "    <tr>\n",
       "      <th>uferfiltrat__v1_line.prj</th>\n",
       "      <td>PROJCS[\"ETRS_1989_LCC\",GEOGCS[\"GCS_ETRS_1989\",DATUM[\"D_ETRS_1989\",SPHEROID[\"GRS_1980\",6378137.0,298.257222101]],PRIMEM[\"Greenwich\",0.0],UNIT[\"Degree\",0.0174532925199433]],PROJECTION[\"Lambert_Conformal_Conic\"],PARAMETER[\"False_Easting\",4000000.0],PARAMETER[\"False_Northing\",2800000.0],PARAMETER[\"Central_Meridian\",10.0],PARAMETER[\"Standard_Parallel_1\",35.0],PARAMETER[\"Standard_Parallel_2\",65.0],PARAMETER[\"Latitude_Of_Origin\",52.0],UNIT[\"Meter\",1.0]]</td>\n",
       "    </tr>\n",
       "    <tr>\n",
       "      <th>gwerg_gestein_v1_poly.prj</th>\n",
       "      <td>PROJCS[\"ETRS_1989_LCC\",GEOGCS[\"GCS_ETRS_1989\",DATUM[\"D_ETRS_1989\",SPHEROID[\"GRS_1980\",6378137.0,298.257222101]],PRIMEM[\"Greenwich\",0.0],UNIT[\"Degree\",0.0174532925199433]],PROJECTION[\"Lambert_Conformal_Conic\"],PARAMETER[\"False_Easting\",4000000.0],PARAMETER[\"False_Northing\",2800000.0],PARAMETER[\"Central_Meridian\",10.0],PARAMETER[\"Standard_Parallel_1\",35.0],PARAMETER[\"Standard_Parallel_2\",65.0],PARAMETER[\"Latitude_Of_Origin\",52.0],UNIT[\"Meter\",1.0]]</td>\n",
       "    </tr>\n",
       "    <tr>\n",
       "      <th>gwerg__v11_poly.prj</th>\n",
       "      <td>PROJCS[\"ETRS_1989_LCC\",GEOGCS[\"GCS_ETRS_1989\",DATUM[\"D_ETRS_1989\",SPHEROID[\"GRS_1980\",6378137.0,298.257222101]],PRIMEM[\"Greenwich\",0.0],UNIT[\"Degree\",0.0174532925199433]],PROJECTION[\"Lambert_Conformal_Conic\"],PARAMETER[\"False_Easting\",4000000.0],PARAMETER[\"False_Northing\",2800000.0],PARAMETER[\"Central_Meridian\",10.0],PARAMETER[\"Standard_Parallel_1\",35.0],PARAMETER[\"Standard_Parallel_2\",65.0],PARAMETER[\"Latitude_Of_Origin\",52.0],UNIT[\"Meter\",1.0]]</td>\n",
       "    </tr>\n",
       "    <tr>\n",
       "      <th>gwerg_erg_v11_poly.prj</th>\n",
       "      <td>PROJCS[\"ETRS_1989_LCC\",GEOGCS[\"GCS_ETRS_1989\",DATUM[\"D_ETRS_1989\",SPHEROID[\"GRS_1980\",6378137.0,298.257222101]],PRIMEM[\"Greenwich\",0.0],UNIT[\"Degree\",0.0174532925199433]],PROJECTION[\"Lambert_Conformal_Conic\"],PARAMETER[\"False_Easting\",4000000.0],PARAMETER[\"False_Northing\",2800000.0],PARAMETER[\"Central_Meridian\",10.0],PARAMETER[\"Standard_Parallel_1\",35.0],PARAMETER[\"Standard_Parallel_2\",65.0],PARAMETER[\"Latitude_Of_Origin\",52.0],UNIT[\"Meter\",1.0]]</td>\n",
       "    </tr>\n",
       "    <tr>\n",
       "      <th>bergbaugebiete__v1_poly.prj</th>\n",
       "      <td>PROJCS[\"ETRS_1989_LCC\",GEOGCS[\"GCS_ETRS_1989\",DATUM[\"D_ETRS_1989\",SPHEROID[\"GRS_1980\",6378137.0,298.257222101]],PRIMEM[\"Greenwich\",0.0],UNIT[\"Degree\",0.0174532925199433]],PROJECTION[\"Lambert_Conformal_Conic\"],PARAMETER[\"False_Easting\",4000000.0],PARAMETER[\"False_Northing\",2800000.0],PARAMETER[\"Central_Meridian\",10.0],PARAMETER[\"Standard_Parallel_1\",35.0],PARAMETER[\"Standard_Parallel_2\",65.0],PARAMETER[\"Latitude_Of_Origin\",52.0],UNIT[\"Meter\",1.0]]</td>\n",
       "    </tr>\n",
       "  </tbody>\n",
       "</table>\n",
       "</div>"
      ],
      "text/plain": [
       "                                                                                                                                                                                                                                                                                                                                                                                                                                                                                              0\n",
       "uferfiltrat__v1_line.prj     PROJCS[\"ETRS_1989_LCC\",GEOGCS[\"GCS_ETRS_1989\",DATUM[\"D_ETRS_1989\",SPHEROID[\"GRS_1980\",6378137.0,298.257222101]],PRIMEM[\"Greenwich\",0.0],UNIT[\"Degree\",0.0174532925199433]],PROJECTION[\"Lambert_Conformal_Conic\"],PARAMETER[\"False_Easting\",4000000.0],PARAMETER[\"False_Northing\",2800000.0],PARAMETER[\"Central_Meridian\",10.0],PARAMETER[\"Standard_Parallel_1\",35.0],PARAMETER[\"Standard_Parallel_2\",65.0],PARAMETER[\"Latitude_Of_Origin\",52.0],UNIT[\"Meter\",1.0]]\n",
       "gwerg_gestein_v1_poly.prj    PROJCS[\"ETRS_1989_LCC\",GEOGCS[\"GCS_ETRS_1989\",DATUM[\"D_ETRS_1989\",SPHEROID[\"GRS_1980\",6378137.0,298.257222101]],PRIMEM[\"Greenwich\",0.0],UNIT[\"Degree\",0.0174532925199433]],PROJECTION[\"Lambert_Conformal_Conic\"],PARAMETER[\"False_Easting\",4000000.0],PARAMETER[\"False_Northing\",2800000.0],PARAMETER[\"Central_Meridian\",10.0],PARAMETER[\"Standard_Parallel_1\",35.0],PARAMETER[\"Standard_Parallel_2\",65.0],PARAMETER[\"Latitude_Of_Origin\",52.0],UNIT[\"Meter\",1.0]]\n",
       "gwerg__v11_poly.prj          PROJCS[\"ETRS_1989_LCC\",GEOGCS[\"GCS_ETRS_1989\",DATUM[\"D_ETRS_1989\",SPHEROID[\"GRS_1980\",6378137.0,298.257222101]],PRIMEM[\"Greenwich\",0.0],UNIT[\"Degree\",0.0174532925199433]],PROJECTION[\"Lambert_Conformal_Conic\"],PARAMETER[\"False_Easting\",4000000.0],PARAMETER[\"False_Northing\",2800000.0],PARAMETER[\"Central_Meridian\",10.0],PARAMETER[\"Standard_Parallel_1\",35.0],PARAMETER[\"Standard_Parallel_2\",65.0],PARAMETER[\"Latitude_Of_Origin\",52.0],UNIT[\"Meter\",1.0]]\n",
       "gwerg_erg_v11_poly.prj       PROJCS[\"ETRS_1989_LCC\",GEOGCS[\"GCS_ETRS_1989\",DATUM[\"D_ETRS_1989\",SPHEROID[\"GRS_1980\",6378137.0,298.257222101]],PRIMEM[\"Greenwich\",0.0],UNIT[\"Degree\",0.0174532925199433]],PROJECTION[\"Lambert_Conformal_Conic\"],PARAMETER[\"False_Easting\",4000000.0],PARAMETER[\"False_Northing\",2800000.0],PARAMETER[\"Central_Meridian\",10.0],PARAMETER[\"Standard_Parallel_1\",35.0],PARAMETER[\"Standard_Parallel_2\",65.0],PARAMETER[\"Latitude_Of_Origin\",52.0],UNIT[\"Meter\",1.0]]\n",
       "bergbaugebiete__v1_poly.prj  PROJCS[\"ETRS_1989_LCC\",GEOGCS[\"GCS_ETRS_1989\",DATUM[\"D_ETRS_1989\",SPHEROID[\"GRS_1980\",6378137.0,298.257222101]],PRIMEM[\"Greenwich\",0.0],UNIT[\"Degree\",0.0174532925199433]],PROJECTION[\"Lambert_Conformal_Conic\"],PARAMETER[\"False_Easting\",4000000.0],PARAMETER[\"False_Northing\",2800000.0],PARAMETER[\"Central_Meridian\",10.0],PARAMETER[\"Standard_Parallel_1\",35.0],PARAMETER[\"Standard_Parallel_2\",65.0],PARAMETER[\"Latitude_Of_Origin\",52.0],UNIT[\"Meter\",1.0]]"
      ]
     },
     "metadata": {},
     "output_type": "display_data"
    }
   ],
   "source": [
    "# assert CRS consistency\n",
    "\n",
    "pd.set_option('display.max_colwidth', None) \n",
    "display(pd.DataFrame.from_dict(crss, orient='index'))"
   ]
  },
  {
   "cell_type": "code",
   "execution_count": 5,
   "metadata": {},
   "outputs": [
    {
     "data": {
      "text/plain": [
       "1"
      ]
     },
     "execution_count": 5,
     "metadata": {},
     "output_type": "execute_result"
    }
   ],
   "source": [
    "len(set(list(crss.values())))"
   ]
  },
  {
   "cell_type": "markdown",
   "metadata": {},
   "source": [
    "All CRS are projected and the projections are the same."
   ]
  },
  {
   "cell_type": "code",
   "execution_count": 6,
   "metadata": {},
   "outputs": [],
   "source": [
    "# simple pandas EDA\n",
    "filenames = list(dfs.keys())\n",
    "iterator = iter(filenames)"
   ]
  },
  {
   "cell_type": "code",
   "execution_count": 7,
   "metadata": {},
   "outputs": [
    {
     "name": "stdout",
     "output_type": "stream",
     "text": [
      "Dataset: gwerg_gestein_v1_poly\n",
      "\n",
      "<class 'pandas.core.frame.DataFrame'>\n",
      "RangeIndex: 4 entries, 0 to 3\n",
      "Data columns (total 4 columns):\n",
      " #   Column      Non-Null Count  Dtype  \n",
      "---  ------      --------------  -----  \n",
      " 0   gestein_id  4 non-null      int64  \n",
      " 1   gestein     4 non-null      object \n",
      " 2   Shape_STAr  4 non-null      float64\n",
      " 3   Shape_STLe  4 non-null      float64\n",
      "dtypes: float64(2), int64(1), object(1)\n",
      "memory usage: 260.0+ bytes\n"
     ]
    },
    {
     "data": {
      "text/plain": [
       "None"
      ]
     },
     "metadata": {},
     "output_type": "display_data"
    },
    {
     "data": {
      "text/html": [
       "<div>\n",
       "<style scoped>\n",
       "    .dataframe tbody tr th:only-of-type {\n",
       "        vertical-align: middle;\n",
       "    }\n",
       "\n",
       "    .dataframe tbody tr th {\n",
       "        vertical-align: top;\n",
       "    }\n",
       "\n",
       "    .dataframe thead th {\n",
       "        text-align: right;\n",
       "    }\n",
       "</style>\n",
       "<table border=\"1\" class=\"dataframe\">\n",
       "  <thead>\n",
       "    <tr style=\"text-align: right;\">\n",
       "      <th></th>\n",
       "      <th>gestein_id</th>\n",
       "      <th>Shape_STAr</th>\n",
       "      <th>Shape_STLe</th>\n",
       "    </tr>\n",
       "  </thead>\n",
       "  <tbody>\n",
       "    <tr>\n",
       "      <th>count</th>\n",
       "      <td>4.000000</td>\n",
       "      <td>4.000000e+00</td>\n",
       "      <td>4.000000e+00</td>\n",
       "    </tr>\n",
       "    <tr>\n",
       "      <th>mean</th>\n",
       "      <td>1.500000</td>\n",
       "      <td>8.367160e+10</td>\n",
       "      <td>1.666899e+07</td>\n",
       "    </tr>\n",
       "    <tr>\n",
       "      <th>std</th>\n",
       "      <td>1.290994</td>\n",
       "      <td>6.596082e+10</td>\n",
       "      <td>8.907157e+06</td>\n",
       "    </tr>\n",
       "    <tr>\n",
       "      <th>min</th>\n",
       "      <td>0.000000</td>\n",
       "      <td>2.193712e+10</td>\n",
       "      <td>6.968575e+06</td>\n",
       "    </tr>\n",
       "    <tr>\n",
       "      <th>25%</th>\n",
       "      <td>0.750000</td>\n",
       "      <td>3.527179e+10</td>\n",
       "      <td>1.045299e+07</td>\n",
       "    </tr>\n",
       "    <tr>\n",
       "      <th>50%</th>\n",
       "      <td>1.500000</td>\n",
       "      <td>7.343578e+10</td>\n",
       "      <td>1.674008e+07</td>\n",
       "    </tr>\n",
       "    <tr>\n",
       "      <th>75%</th>\n",
       "      <td>2.250000</td>\n",
       "      <td>1.218356e+11</td>\n",
       "      <td>2.295608e+07</td>\n",
       "    </tr>\n",
       "    <tr>\n",
       "      <th>max</th>\n",
       "      <td>3.000000</td>\n",
       "      <td>1.658777e+11</td>\n",
       "      <td>2.622725e+07</td>\n",
       "    </tr>\n",
       "  </tbody>\n",
       "</table>\n",
       "</div>"
      ],
      "text/plain": [
       "       gestein_id    Shape_STAr    Shape_STLe\n",
       "count    4.000000  4.000000e+00  4.000000e+00\n",
       "mean     1.500000  8.367160e+10  1.666899e+07\n",
       "std      1.290994  6.596082e+10  8.907157e+06\n",
       "min      0.000000  2.193712e+10  6.968575e+06\n",
       "25%      0.750000  3.527179e+10  1.045299e+07\n",
       "50%      1.500000  7.343578e+10  1.674008e+07\n",
       "75%      2.250000  1.218356e+11  2.295608e+07\n",
       "max      3.000000  1.658777e+11  2.622725e+07"
      ]
     },
     "metadata": {},
     "output_type": "display_data"
    },
    {
     "name": "stdout",
     "output_type": "stream",
     "text": [
      "Missing values\n"
     ]
    },
    {
     "data": {
      "text/plain": [
       "gestein_id    0\n",
       "gestein       0\n",
       "Shape_STAr    0\n",
       "Shape_STLe    0\n",
       "dtype: int64"
      ]
     },
     "metadata": {},
     "output_type": "display_data"
    },
    {
     "name": "stdout",
     "output_type": "stream",
     "text": [
      "unique values categorical features\n"
     ]
    },
    {
     "data": {
      "text/plain": [
       "gestein                                                        \n",
       "                                                                   1\n",
       "Kalkstein, Dolomit, Gips (Karstwasserleiter)                       1\n",
       "Sand, Kies, Tuff (Porenwasserleiter)                               1\n",
       "Sandstein, Quarzit, Basalt, Kalkmergelstein (Kluftwasserleiter)    1\n",
       "Name: count, dtype: int64"
      ]
     },
     "metadata": {},
     "output_type": "display_data"
    }
   ],
   "source": [
    "file = next(iterator)\n",
    "make_summary(file)"
   ]
  },
  {
   "cell_type": "code",
   "execution_count": 8,
   "metadata": {},
   "outputs": [],
   "source": [
    "# plot only region where one of the 3 rock types are found (disregard 9  gestein_id)"
   ]
  },
  {
   "cell_type": "code",
   "execution_count": 9,
   "metadata": {},
   "outputs": [
    {
     "data": {
      "image/png": "[encoded data removed]",
      "text/plain": [
       "<Figure size 640x480 with 1 Axes>"
      ]
     },
     "metadata": {},
     "output_type": "display_data"
    }
   ],
   "source": [
    "gdf = gdfs[file]\n",
    "gdf[gdf[\"gestein_id\"] != 0].plot()\n",
    "plt.title('Relevant geological rock formations in Germany')\n",
    "plt.show()\n",
    "plt.close()\n"
   ]
  },
  {
   "cell_type": "markdown",
   "metadata": {},
   "source": [
    "Dataset: ergw1000_gwerg_gestein_v1_poly\n",
    "\n",
    "\n",
    "-   Contains the unique types of water-bearing rocks (column \"gestein\", 3 unique values) in Germany and corresponding ids (\"gestein_id\"). \n",
    "-   The id 0 refers to empty field in \"gestein\" column, which likely refers to \"no water bearing rocks\" (could be a nan value though, too).\n",
    "-   Columns \"Shape_STAr\" and \"Shape_STLe\" refer to the size and cirumference, respectively, of the total areas in Germany rock types\n"
   ]
  },
  {
   "cell_type": "code",
   "execution_count": 10,
   "metadata": {},
   "outputs": [
    {
     "name": "stdout",
     "output_type": "stream",
     "text": [
      "Dataset: bergbaugebiete__v1_poly\n",
      "\n",
      "<class 'pandas.core.frame.DataFrame'>\n",
      "RangeIndex: 17 entries, 0 to 16\n",
      "Data columns (total 3 columns):\n",
      " #   Column      Non-Null Count  Dtype  \n",
      "---  ------      --------------  -----  \n",
      " 0   dummy_      17 non-null     int64  \n",
      " 1   Shape_STAr  17 non-null     float64\n",
      " 2   Shape_STLe  17 non-null     float64\n",
      "dtypes: float64(2), int64(1)\n",
      "memory usage: 540.0 bytes\n"
     ]
    },
    {
     "data": {
      "text/plain": [
       "None"
      ]
     },
     "metadata": {},
     "output_type": "display_data"
    },
    {
     "data": {
      "text/html": [
       "<div>\n",
       "<style scoped>\n",
       "    .dataframe tbody tr th:only-of-type {\n",
       "        vertical-align: middle;\n",
       "    }\n",
       "\n",
       "    .dataframe tbody tr th {\n",
       "        vertical-align: top;\n",
       "    }\n",
       "\n",
       "    .dataframe thead th {\n",
       "        text-align: right;\n",
       "    }\n",
       "</style>\n",
       "<table border=\"1\" class=\"dataframe\">\n",
       "  <thead>\n",
       "    <tr style=\"text-align: right;\">\n",
       "      <th></th>\n",
       "      <th>dummy_</th>\n",
       "      <th>Shape_STAr</th>\n",
       "      <th>Shape_STLe</th>\n",
       "    </tr>\n",
       "  </thead>\n",
       "  <tbody>\n",
       "    <tr>\n",
       "      <th>count</th>\n",
       "      <td>17.0</td>\n",
       "      <td>1.700000e+01</td>\n",
       "      <td>17.000000</td>\n",
       "    </tr>\n",
       "    <tr>\n",
       "      <th>mean</th>\n",
       "      <td>0.0</td>\n",
       "      <td>3.764313e+08</td>\n",
       "      <td>80009.697758</td>\n",
       "    </tr>\n",
       "    <tr>\n",
       "      <th>std</th>\n",
       "      <td>0.0</td>\n",
       "      <td>6.134345e+08</td>\n",
       "      <td>75125.952082</td>\n",
       "    </tr>\n",
       "    <tr>\n",
       "      <th>min</th>\n",
       "      <td>0.0</td>\n",
       "      <td>2.655368e+07</td>\n",
       "      <td>20230.199003</td>\n",
       "    </tr>\n",
       "    <tr>\n",
       "      <th>25%</th>\n",
       "      <td>0.0</td>\n",
       "      <td>4.876964e+07</td>\n",
       "      <td>32051.936863</td>\n",
       "    </tr>\n",
       "    <tr>\n",
       "      <th>50%</th>\n",
       "      <td>0.0</td>\n",
       "      <td>7.479384e+07</td>\n",
       "      <td>44318.133406</td>\n",
       "    </tr>\n",
       "    <tr>\n",
       "      <th>75%</th>\n",
       "      <td>0.0</td>\n",
       "      <td>4.231184e+08</td>\n",
       "      <td>102172.003704</td>\n",
       "    </tr>\n",
       "    <tr>\n",
       "      <th>max</th>\n",
       "      <td>0.0</td>\n",
       "      <td>2.086606e+09</td>\n",
       "      <td>261324.197057</td>\n",
       "    </tr>\n",
       "  </tbody>\n",
       "</table>\n",
       "</div>"
      ],
      "text/plain": [
       "       dummy_    Shape_STAr     Shape_STLe\n",
       "count    17.0  1.700000e+01      17.000000\n",
       "mean      0.0  3.764313e+08   80009.697758\n",
       "std       0.0  6.134345e+08   75125.952082\n",
       "min       0.0  2.655368e+07   20230.199003\n",
       "25%       0.0  4.876964e+07   32051.936863\n",
       "50%       0.0  7.479384e+07   44318.133406\n",
       "75%       0.0  4.231184e+08  102172.003704\n",
       "max       0.0  2.086606e+09  261324.197057"
      ]
     },
     "metadata": {},
     "output_type": "display_data"
    },
    {
     "name": "stdout",
     "output_type": "stream",
     "text": [
      "Missing values\n"
     ]
    },
    {
     "data": {
      "text/plain": [
       "dummy_        0\n",
       "Shape_STAr    0\n",
       "Shape_STLe    0\n",
       "dtype: int64"
      ]
     },
     "metadata": {},
     "output_type": "display_data"
    }
   ],
   "source": [
    "file = next(iterator)\n",
    "make_summary(file)"
   ]
  },
  {
   "cell_type": "code",
   "execution_count": 11,
   "metadata": {},
   "outputs": [
    {
     "data": {
      "image/png": "[encoded data removed]",
      "text/plain": [
       "<Figure size 640x480 with 1 Axes>"
      ]
     },
     "metadata": {},
     "output_type": "display_data"
    }
   ],
   "source": [
    "# simple plot\n",
    "gdf = gdfs[file]\n",
    "gdf.plot()\n",
    "plt.title('Mining areas in Germany')\n",
    "plt.show()\n",
    "plt.close()"
   ]
  },
  {
   "cell_type": "markdown",
   "metadata": {},
   "source": [
    "Dataset ergw1000_bergbaugebiete__v1_poly\n",
    "- dataset denotes the 17 mining areas in Germany\n",
    "- \"dummy_\" columns has all values 0\n",
    "- columns \"Shape_STAr\" and \"Shape_STLe\" refer to the size and cirumference of the mining areas"
   ]
  },
  {
   "cell_type": "code",
   "execution_count": 12,
   "metadata": {},
   "outputs": [
    {
     "name": "stdout",
     "output_type": "stream",
     "text": [
      "Dataset: uferfiltrat__v1_line\n",
      "\n",
      "<class 'pandas.core.frame.DataFrame'>\n",
      "RangeIndex: 131 entries, 0 to 130\n",
      "Data columns (total 2 columns):\n",
      " #   Column      Non-Null Count  Dtype  \n",
      "---  ------      --------------  -----  \n",
      " 0   dummy_      131 non-null    int64  \n",
      " 1   Shape_STLe  131 non-null    float64\n",
      "dtypes: float64(1), int64(1)\n",
      "memory usage: 2.2 KB\n"
     ]
    },
    {
     "data": {
      "text/plain": [
       "None"
      ]
     },
     "metadata": {},
     "output_type": "display_data"
    },
    {
     "data": {
      "text/html": [
       "<div>\n",
       "<style scoped>\n",
       "    .dataframe tbody tr th:only-of-type {\n",
       "        vertical-align: middle;\n",
       "    }\n",
       "\n",
       "    .dataframe tbody tr th {\n",
       "        vertical-align: top;\n",
       "    }\n",
       "\n",
       "    .dataframe thead th {\n",
       "        text-align: right;\n",
       "    }\n",
       "</style>\n",
       "<table border=\"1\" class=\"dataframe\">\n",
       "  <thead>\n",
       "    <tr style=\"text-align: right;\">\n",
       "      <th></th>\n",
       "      <th>dummy_</th>\n",
       "      <th>Shape_STLe</th>\n",
       "    </tr>\n",
       "  </thead>\n",
       "  <tbody>\n",
       "    <tr>\n",
       "      <th>count</th>\n",
       "      <td>131.0</td>\n",
       "      <td>131.000000</td>\n",
       "    </tr>\n",
       "    <tr>\n",
       "      <th>mean</th>\n",
       "      <td>0.0</td>\n",
       "      <td>15956.373428</td>\n",
       "    </tr>\n",
       "    <tr>\n",
       "      <th>std</th>\n",
       "      <td>0.0</td>\n",
       "      <td>23838.836347</td>\n",
       "    </tr>\n",
       "    <tr>\n",
       "      <th>min</th>\n",
       "      <td>0.0</td>\n",
       "      <td>3417.556640</td>\n",
       "    </tr>\n",
       "    <tr>\n",
       "      <th>25%</th>\n",
       "      <td>0.0</td>\n",
       "      <td>4923.377071</td>\n",
       "    </tr>\n",
       "    <tr>\n",
       "      <th>50%</th>\n",
       "      <td>0.0</td>\n",
       "      <td>6655.355320</td>\n",
       "    </tr>\n",
       "    <tr>\n",
       "      <th>75%</th>\n",
       "      <td>0.0</td>\n",
       "      <td>15409.132345</td>\n",
       "    </tr>\n",
       "    <tr>\n",
       "      <th>max</th>\n",
       "      <td>0.0</td>\n",
       "      <td>186551.792655</td>\n",
       "    </tr>\n",
       "  </tbody>\n",
       "</table>\n",
       "</div>"
      ],
      "text/plain": [
       "       dummy_     Shape_STLe\n",
       "count   131.0     131.000000\n",
       "mean      0.0   15956.373428\n",
       "std       0.0   23838.836347\n",
       "min       0.0    3417.556640\n",
       "25%       0.0    4923.377071\n",
       "50%       0.0    6655.355320\n",
       "75%       0.0   15409.132345\n",
       "max       0.0  186551.792655"
      ]
     },
     "metadata": {},
     "output_type": "display_data"
    },
    {
     "name": "stdout",
     "output_type": "stream",
     "text": [
      "Missing values\n"
     ]
    },
    {
     "data": {
      "text/plain": [
       "dummy_        0\n",
       "Shape_STLe    0\n",
       "dtype: int64"
      ]
     },
     "metadata": {},
     "output_type": "display_data"
    }
   ],
   "source": [
    "file = next(iterator)\n",
    "make_summary(file)"
   ]
  },
  {
   "cell_type": "code",
   "execution_count": 13,
   "metadata": {},
   "outputs": [
    {
     "data": {
      "image/png": "[encoded data removed]",
      "text/plain": [
       "<Figure size 640x480 with 1 Axes>"
      ]
     },
     "metadata": {},
     "output_type": "display_data"
    }
   ],
   "source": [
    "# simple plot\n",
    "gdf = gdfs[file]\n",
    "gdf.plot()\n",
    "plt.title('Waterbank filtrate lines in Germany')\n",
    "plt.show()\n",
    "plt.close()"
   ]
  },
  {
   "cell_type": "markdown",
   "metadata": {},
   "source": [
    "Dataset ergw1000_uferfiltrat__v1_line\n",
    "- refers to waterbank data (water taken from near a river bank or the like; bank filtrate)\n",
    "- 131 waterbank lines in total\n",
    "- all values of the \"dummy_\" variable are 0\n",
    "- columns \"Shape_STLe\" refer to the cirumference of the bank filtrate water"
   ]
  },
  {
   "cell_type": "code",
   "execution_count": 14,
   "metadata": {},
   "outputs": [
    {
     "name": "stdout",
     "output_type": "stream",
     "text": [
      "Dataset: gwerg_erg_v11_poly\n",
      "\n",
      "<class 'pandas.core.frame.DataFrame'>\n",
      "RangeIndex: 1301 entries, 0 to 1300\n",
      "Data columns (total 7 columns):\n",
      " #   Column      Non-Null Count  Dtype  \n",
      "---  ------      --------------  -----  \n",
      " 0   erg_id      1301 non-null   int64  \n",
      " 1   bedeutung   1301 non-null   object \n",
      " 2   ergiebigke  1301 non-null   object \n",
      " 3   entn_bru    1301 non-null   object \n",
      " 4   entn_werk   1301 non-null   object \n",
      " 5   Shape_STAr  1301 non-null   float64\n",
      " 6   Shape_STLe  1301 non-null   float64\n",
      "dtypes: float64(2), int64(1), object(4)\n",
      "memory usage: 71.3+ KB\n"
     ]
    },
    {
     "data": {
      "text/plain": [
       "None"
      ]
     },
     "metadata": {},
     "output_type": "display_data"
    },
    {
     "data": {
      "text/html": [
       "<div>\n",
       "<style scoped>\n",
       "    .dataframe tbody tr th:only-of-type {\n",
       "        vertical-align: middle;\n",
       "    }\n",
       "\n",
       "    .dataframe tbody tr th {\n",
       "        vertical-align: top;\n",
       "    }\n",
       "\n",
       "    .dataframe thead th {\n",
       "        text-align: right;\n",
       "    }\n",
       "</style>\n",
       "<table border=\"1\" class=\"dataframe\">\n",
       "  <thead>\n",
       "    <tr style=\"text-align: right;\">\n",
       "      <th></th>\n",
       "      <th>erg_id</th>\n",
       "      <th>Shape_STAr</th>\n",
       "      <th>Shape_STLe</th>\n",
       "    </tr>\n",
       "  </thead>\n",
       "  <tbody>\n",
       "    <tr>\n",
       "      <th>count</th>\n",
       "      <td>1301.000000</td>\n",
       "      <td>1.301000e+03</td>\n",
       "      <td>1.301000e+03</td>\n",
       "    </tr>\n",
       "    <tr>\n",
       "      <th>mean</th>\n",
       "      <td>10.018447</td>\n",
       "      <td>2.572532e+08</td>\n",
       "      <td>8.263410e+04</td>\n",
       "    </tr>\n",
       "    <tr>\n",
       "      <th>std</th>\n",
       "      <td>5.676236</td>\n",
       "      <td>1.599624e+09</td>\n",
       "      <td>3.445229e+05</td>\n",
       "    </tr>\n",
       "    <tr>\n",
       "      <th>min</th>\n",
       "      <td>0.000000</td>\n",
       "      <td>4.616934e+03</td>\n",
       "      <td>3.220921e+02</td>\n",
       "    </tr>\n",
       "    <tr>\n",
       "      <th>25%</th>\n",
       "      <td>11.000000</td>\n",
       "      <td>6.160046e+06</td>\n",
       "      <td>1.211909e+04</td>\n",
       "    </tr>\n",
       "    <tr>\n",
       "      <th>50%</th>\n",
       "      <td>13.000000</td>\n",
       "      <td>2.020107e+07</td>\n",
       "      <td>2.349867e+04</td>\n",
       "    </tr>\n",
       "    <tr>\n",
       "      <th>75%</th>\n",
       "      <td>13.000000</td>\n",
       "      <td>6.761554e+07</td>\n",
       "      <td>4.976451e+04</td>\n",
       "    </tr>\n",
       "    <tr>\n",
       "      <th>max</th>\n",
       "      <td>15.000000</td>\n",
       "      <td>2.709913e+10</td>\n",
       "      <td>7.138607e+06</td>\n",
       "    </tr>\n",
       "  </tbody>\n",
       "</table>\n",
       "</div>"
      ],
      "text/plain": [
       "            erg_id    Shape_STAr    Shape_STLe\n",
       "count  1301.000000  1.301000e+03  1.301000e+03\n",
       "mean     10.018447  2.572532e+08  8.263410e+04\n",
       "std       5.676236  1.599624e+09  3.445229e+05\n",
       "min       0.000000  4.616934e+03  3.220921e+02\n",
       "25%      11.000000  6.160046e+06  1.211909e+04\n",
       "50%      13.000000  2.020107e+07  2.349867e+04\n",
       "75%      13.000000  6.761554e+07  4.976451e+04\n",
       "max      15.000000  2.709913e+10  7.138607e+06"
      ]
     },
     "metadata": {},
     "output_type": "display_data"
    },
    {
     "name": "stdout",
     "output_type": "stream",
     "text": [
      "Missing values\n"
     ]
    },
    {
     "data": {
      "text/plain": [
       "erg_id        0\n",
       "bedeutung     0\n",
       "ergiebigke    0\n",
       "entn_bru      0\n",
       "entn_werk     0\n",
       "Shape_STAr    0\n",
       "Shape_STLe    0\n",
       "dtype: int64"
      ]
     },
     "metadata": {},
     "output_type": "display_data"
    },
    {
     "name": "stdout",
     "output_type": "stream",
     "text": [
      "unique values categorical features\n"
     ]
    },
    {
     "data": {
      "text/html": [
       "<div>\n",
       "<style scoped>\n",
       "    .dataframe tbody tr th:only-of-type {\n",
       "        vertical-align: middle;\n",
       "    }\n",
       "\n",
       "    .dataframe tbody tr th {\n",
       "        vertical-align: top;\n",
       "    }\n",
       "\n",
       "    .dataframe thead th {\n",
       "        text-align: right;\n",
       "    }\n",
       "</style>\n",
       "<table border=\"1\" class=\"dataframe\">\n",
       "  <thead>\n",
       "    <tr style=\"text-align: right;\">\n",
       "      <th></th>\n",
       "      <th>erg_id</th>\n",
       "      <th>bedeutung</th>\n",
       "      <th>ergiebigke</th>\n",
       "      <th>entn_bru</th>\n",
       "      <th>entn_werk</th>\n",
       "      <th>count</th>\n",
       "    </tr>\n",
       "  </thead>\n",
       "  <tbody>\n",
       "    <tr>\n",
       "      <th>0</th>\n",
       "      <td>0</td>\n",
       "      <td></td>\n",
       "      <td></td>\n",
       "      <td></td>\n",
       "      <td></td>\n",
       "      <td>308</td>\n",
       "    </tr>\n",
       "    <tr>\n",
       "      <th>1</th>\n",
       "      <td>11</td>\n",
       "      <td>Bedeutende Grundwasservorkommen</td>\n",
       "      <td>sehr ergiebig</td>\n",
       "      <td>meist &gt; 40 (l/s)</td>\n",
       "      <td>häufig &gt; 5 (hm3/a)</td>\n",
       "      <td>63</td>\n",
       "    </tr>\n",
       "    <tr>\n",
       "      <th>2</th>\n",
       "      <td>12</td>\n",
       "      <td>Bedeutende Grundwasservorkommen</td>\n",
       "      <td>ergiebig</td>\n",
       "      <td>meist 15 - 40 (l/s)</td>\n",
       "      <td>meist 1 - 5 (hm3/a)</td>\n",
       "      <td>258</td>\n",
       "    </tr>\n",
       "    <tr>\n",
       "      <th>3</th>\n",
       "      <td>13</td>\n",
       "      <td>Bedeutende Grundwasservorkommen</td>\n",
       "      <td>weniger oder wechselnd ergiebig</td>\n",
       "      <td>meist 5 - 15 (l/s)</td>\n",
       "      <td>meist 0,2 - 1 (hm3/a)</td>\n",
       "      <td>353</td>\n",
       "    </tr>\n",
       "    <tr>\n",
       "      <th>4</th>\n",
       "      <td>14</td>\n",
       "      <td>Weniger bedeutende Grundwasservorkommen</td>\n",
       "      <td>örtlich in Brunnen und Quellen große Ergiebigkeit möglich; Nutzung aus technischen und hygienischen Gründen eingeschränk</td>\n",
       "      <td>meist &lt; 5 (l/s)</td>\n",
       "      <td></td>\n",
       "      <td>129</td>\n",
       "    </tr>\n",
       "    <tr>\n",
       "      <th>5</th>\n",
       "      <td>15</td>\n",
       "      <td>Keine bedeutenden Grundwasservorkommen</td>\n",
       "      <td>örtliche Vorkommen können für die Versorgung wichtig sein</td>\n",
       "      <td>meist &lt; 2 (l/s)</td>\n",
       "      <td></td>\n",
       "      <td>190</td>\n",
       "    </tr>\n",
       "  </tbody>\n",
       "</table>\n",
       "</div>"
      ],
      "text/plain": [
       "   erg_id                                bedeutung  \\\n",
       "0       0                                            \n",
       "1      11          Bedeutende Grundwasservorkommen   \n",
       "2      12          Bedeutende Grundwasservorkommen   \n",
       "3      13          Bedeutende Grundwasservorkommen   \n",
       "4      14  Weniger bedeutende Grundwasservorkommen   \n",
       "5      15   Keine bedeutenden Grundwasservorkommen   \n",
       "\n",
       "                                                                                                                 ergiebigke  \\\n",
       "0                                                                                                                             \n",
       "1                                                                                                             sehr ergiebig   \n",
       "2                                                                                                                  ergiebig   \n",
       "3                                                                                           weniger oder wechselnd ergiebig   \n",
       "4  örtlich in Brunnen und Quellen große Ergiebigkeit möglich; Nutzung aus technischen und hygienischen Gründen eingeschränk   \n",
       "5                                                                 örtliche Vorkommen können für die Versorgung wichtig sein   \n",
       "\n",
       "              entn_bru              entn_werk  count  \n",
       "0                                                308  \n",
       "1     meist > 40 (l/s)     häufig > 5 (hm3/a)     63  \n",
       "2  meist 15 - 40 (l/s)    meist 1 - 5 (hm3/a)    258  \n",
       "3   meist 5 - 15 (l/s)  meist 0,2 - 1 (hm3/a)    353  \n",
       "4      meist < 5 (l/s)                           129  \n",
       "5      meist < 2 (l/s)                           190  "
      ]
     },
     "metadata": {},
     "output_type": "display_data"
    }
   ],
   "source": [
    "file = next(iterator)\n",
    "make_summary(file)"
   ]
  },
  {
   "cell_type": "code",
   "execution_count": 15,
   "metadata": {},
   "outputs": [
    {
     "data": {
      "image/png": "[encoded data removed]",
      "text/plain": [
       "<Figure size 640x480 with 1 Axes>"
      ]
     },
     "metadata": {},
     "output_type": "display_data"
    }
   ],
   "source": [
    "# simple plot, filtering bedeutung == 'Bedeutende Grundwasservorkommen (only areas with significant groundwater levels)\n",
    "gdf = gdfs[file]\n",
    "gdf[gdf[\"erg_id\"].isin([11,12,13])].plot() \n",
    "plt.title('Relevant groundwater bodies in Germany')\n",
    "plt.show()\n",
    "plt.close()"
   ]
  },
  {
   "cell_type": "markdown",
   "metadata": {},
   "source": [
    "Dataset ergw1000_gwerg_erg_v11_poly\n",
    "- refers to importance of the groundwater reserves\n",
    "- \"erg_id\" is a combined id of the features \"ergiebigke\" (yield), \"bedeutung\" (importance), and \"ent_bru\", \"entn_werk\" (extraction intensity at well or waterworks) (refering to potential of the groundwater sources)\n",
    "- 0 likely denotes no relevant groundwater resources\n",
    "- columns \"Shape_STAr\" and \"Shape_STLe\" refer to the size and cirumference of the denoted areas"
   ]
  },
  {
   "cell_type": "code",
   "execution_count": 16,
   "metadata": {},
   "outputs": [
    {
     "name": "stdout",
     "output_type": "stream",
     "text": [
      "Dataset: gwerg__v11_poly\n",
      "\n",
      "<class 'pandas.core.frame.DataFrame'>\n",
      "RangeIndex: 1473 entries, 0 to 1472\n",
      "Data columns (total 9 columns):\n",
      " #   Column      Non-Null Count  Dtype  \n",
      "---  ------      --------------  -----  \n",
      " 0   erg_id      1473 non-null   int64  \n",
      " 1   gestein_id  1473 non-null   int64  \n",
      " 2   bedeutung   1473 non-null   object \n",
      " 3   ergiebigke  1473 non-null   object \n",
      " 4   entn_bru    1473 non-null   object \n",
      " 5   entn_werk   1473 non-null   object \n",
      " 6   gestein     1473 non-null   object \n",
      " 7   Shape_STAr  1473 non-null   float64\n",
      " 8   Shape_STLe  1473 non-null   float64\n",
      "dtypes: float64(2), int64(2), object(5)\n",
      "memory usage: 103.7+ KB\n"
     ]
    },
    {
     "data": {
      "text/plain": [
       "None"
      ]
     },
     "metadata": {},
     "output_type": "display_data"
    },
    {
     "data": {
      "text/html": [
       "<div>\n",
       "<style scoped>\n",
       "    .dataframe tbody tr th:only-of-type {\n",
       "        vertical-align: middle;\n",
       "    }\n",
       "\n",
       "    .dataframe tbody tr th {\n",
       "        vertical-align: top;\n",
       "    }\n",
       "\n",
       "    .dataframe thead th {\n",
       "        text-align: right;\n",
       "    }\n",
       "</style>\n",
       "<table border=\"1\" class=\"dataframe\">\n",
       "  <thead>\n",
       "    <tr style=\"text-align: right;\">\n",
       "      <th></th>\n",
       "      <th>erg_id</th>\n",
       "      <th>gestein_id</th>\n",
       "      <th>Shape_STAr</th>\n",
       "      <th>Shape_STLe</th>\n",
       "    </tr>\n",
       "  </thead>\n",
       "  <tbody>\n",
       "    <tr>\n",
       "      <th>count</th>\n",
       "      <td>1473.000000</td>\n",
       "      <td>1473.000000</td>\n",
       "      <td>1.473000e+03</td>\n",
       "      <td>1.473000e+03</td>\n",
       "    </tr>\n",
       "    <tr>\n",
       "      <th>mean</th>\n",
       "      <td>10.353700</td>\n",
       "      <td>1.653768</td>\n",
       "      <td>2.272141e+08</td>\n",
       "      <td>7.708364e+04</td>\n",
       "    </tr>\n",
       "    <tr>\n",
       "      <th>std</th>\n",
       "      <td>5.450289</td>\n",
       "      <td>1.334488</td>\n",
       "      <td>1.446169e+09</td>\n",
       "      <td>3.066477e+05</td>\n",
       "    </tr>\n",
       "    <tr>\n",
       "      <th>min</th>\n",
       "      <td>0.000000</td>\n",
       "      <td>0.000000</td>\n",
       "      <td>4.616934e+03</td>\n",
       "      <td>3.220921e+02</td>\n",
       "    </tr>\n",
       "    <tr>\n",
       "      <th>25%</th>\n",
       "      <td>11.000000</td>\n",
       "      <td>0.000000</td>\n",
       "      <td>7.207284e+06</td>\n",
       "      <td>1.303570e+04</td>\n",
       "    </tr>\n",
       "    <tr>\n",
       "      <th>50%</th>\n",
       "      <td>13.000000</td>\n",
       "      <td>2.000000</td>\n",
       "      <td>2.380120e+07</td>\n",
       "      <td>2.582869e+04</td>\n",
       "    </tr>\n",
       "    <tr>\n",
       "      <th>75%</th>\n",
       "      <td>13.000000</td>\n",
       "      <td>3.000000</td>\n",
       "      <td>7.901128e+07</td>\n",
       "      <td>5.673716e+04</td>\n",
       "    </tr>\n",
       "    <tr>\n",
       "      <th>max</th>\n",
       "      <td>15.000000</td>\n",
       "      <td>3.000000</td>\n",
       "      <td>2.707973e+10</td>\n",
       "      <td>7.132817e+06</td>\n",
       "    </tr>\n",
       "  </tbody>\n",
       "</table>\n",
       "</div>"
      ],
      "text/plain": [
       "            erg_id   gestein_id    Shape_STAr    Shape_STLe\n",
       "count  1473.000000  1473.000000  1.473000e+03  1.473000e+03\n",
       "mean     10.353700     1.653768  2.272141e+08  7.708364e+04\n",
       "std       5.450289     1.334488  1.446169e+09  3.066477e+05\n",
       "min       0.000000     0.000000  4.616934e+03  3.220921e+02\n",
       "25%      11.000000     0.000000  7.207284e+06  1.303570e+04\n",
       "50%      13.000000     2.000000  2.380120e+07  2.582869e+04\n",
       "75%      13.000000     3.000000  7.901128e+07  5.673716e+04\n",
       "max      15.000000     3.000000  2.707973e+10  7.132817e+06"
      ]
     },
     "metadata": {},
     "output_type": "display_data"
    },
    {
     "name": "stdout",
     "output_type": "stream",
     "text": [
      "Missing values\n"
     ]
    },
    {
     "data": {
      "text/plain": [
       "erg_id        0\n",
       "gestein_id    0\n",
       "bedeutung     0\n",
       "ergiebigke    0\n",
       "entn_bru      0\n",
       "entn_werk     0\n",
       "gestein       0\n",
       "Shape_STAr    0\n",
       "Shape_STLe    0\n",
       "dtype: int64"
      ]
     },
     "metadata": {},
     "output_type": "display_data"
    },
    {
     "name": "stdout",
     "output_type": "stream",
     "text": [
      "unique values categorical features\n"
     ]
    },
    {
     "data": {
      "text/html": [
       "<div>\n",
       "<style scoped>\n",
       "    .dataframe tbody tr th:only-of-type {\n",
       "        vertical-align: middle;\n",
       "    }\n",
       "\n",
       "    .dataframe tbody tr th {\n",
       "        vertical-align: top;\n",
       "    }\n",
       "\n",
       "    .dataframe thead th {\n",
       "        text-align: right;\n",
       "    }\n",
       "</style>\n",
       "<table border=\"1\" class=\"dataframe\">\n",
       "  <thead>\n",
       "    <tr style=\"text-align: right;\">\n",
       "      <th></th>\n",
       "      <th>erg_id</th>\n",
       "      <th>gestein_id</th>\n",
       "      <th>bedeutung</th>\n",
       "      <th>ergiebigke</th>\n",
       "      <th>entn_bru</th>\n",
       "      <th>entn_werk</th>\n",
       "      <th>gestein</th>\n",
       "      <th>count</th>\n",
       "    </tr>\n",
       "  </thead>\n",
       "  <tbody>\n",
       "    <tr>\n",
       "      <th>0</th>\n",
       "      <td>0</td>\n",
       "      <td>0</td>\n",
       "      <td></td>\n",
       "      <td></td>\n",
       "      <td></td>\n",
       "      <td></td>\n",
       "      <td></td>\n",
       "      <td>311</td>\n",
       "    </tr>\n",
       "    <tr>\n",
       "      <th>1</th>\n",
       "      <td>11</td>\n",
       "      <td>1</td>\n",
       "      <td>Bedeutende Grundwasservorkommen</td>\n",
       "      <td>sehr ergiebig</td>\n",
       "      <td>meist &gt; 40 (l/s)</td>\n",
       "      <td>häufig &gt; 5 (hm3/a)</td>\n",
       "      <td>Kalkstein, Dolomit, Gips (Karstwasserleiter)</td>\n",
       "      <td>9</td>\n",
       "    </tr>\n",
       "    <tr>\n",
       "      <th>2</th>\n",
       "      <td>11</td>\n",
       "      <td>2</td>\n",
       "      <td>Bedeutende Grundwasservorkommen</td>\n",
       "      <td>sehr ergiebig</td>\n",
       "      <td>meist &gt; 40 (l/s)</td>\n",
       "      <td>häufig &gt; 5 (hm3/a)</td>\n",
       "      <td>Sandstein, Quarzit, Basalt, Kalkmergelstein (Kluftwasserleiter)</td>\n",
       "      <td>1</td>\n",
       "    </tr>\n",
       "    <tr>\n",
       "      <th>3</th>\n",
       "      <td>11</td>\n",
       "      <td>3</td>\n",
       "      <td>Bedeutende Grundwasservorkommen</td>\n",
       "      <td>sehr ergiebig</td>\n",
       "      <td>meist &gt; 40 (l/s)</td>\n",
       "      <td>häufig &gt; 5 (hm3/a)</td>\n",
       "      <td>Sand, Kies, Tuff (Porenwasserleiter)</td>\n",
       "      <td>55</td>\n",
       "    </tr>\n",
       "    <tr>\n",
       "      <th>4</th>\n",
       "      <td>12</td>\n",
       "      <td>0</td>\n",
       "      <td>Bedeutende Grundwasservorkommen</td>\n",
       "      <td>ergiebig</td>\n",
       "      <td>meist 15 - 40 (l/s)</td>\n",
       "      <td>meist 1 - 5 (hm3/a)</td>\n",
       "      <td></td>\n",
       "      <td>3</td>\n",
       "    </tr>\n",
       "    <tr>\n",
       "      <th>5</th>\n",
       "      <td>12</td>\n",
       "      <td>1</td>\n",
       "      <td>Bedeutende Grundwasservorkommen</td>\n",
       "      <td>ergiebig</td>\n",
       "      <td>meist 15 - 40 (l/s)</td>\n",
       "      <td>meist 1 - 5 (hm3/a)</td>\n",
       "      <td>Kalkstein, Dolomit, Gips (Karstwasserleiter)</td>\n",
       "      <td>30</td>\n",
       "    </tr>\n",
       "    <tr>\n",
       "      <th>6</th>\n",
       "      <td>12</td>\n",
       "      <td>2</td>\n",
       "      <td>Bedeutende Grundwasservorkommen</td>\n",
       "      <td>ergiebig</td>\n",
       "      <td>meist 15 - 40 (l/s)</td>\n",
       "      <td>meist 1 - 5 (hm3/a)</td>\n",
       "      <td>Sandstein, Quarzit, Basalt, Kalkmergelstein (Kluftwasserleiter)</td>\n",
       "      <td>46</td>\n",
       "    </tr>\n",
       "    <tr>\n",
       "      <th>7</th>\n",
       "      <td>12</td>\n",
       "      <td>3</td>\n",
       "      <td>Bedeutende Grundwasservorkommen</td>\n",
       "      <td>ergiebig</td>\n",
       "      <td>meist 15 - 40 (l/s)</td>\n",
       "      <td>meist 1 - 5 (hm3/a)</td>\n",
       "      <td>Sand, Kies, Tuff (Porenwasserleiter)</td>\n",
       "      <td>204</td>\n",
       "    </tr>\n",
       "    <tr>\n",
       "      <th>8</th>\n",
       "      <td>13</td>\n",
       "      <td>0</td>\n",
       "      <td>Bedeutende Grundwasservorkommen</td>\n",
       "      <td>weniger oder wechselnd ergiebig</td>\n",
       "      <td>meist 5 - 15 (l/s)</td>\n",
       "      <td>meist 0,2 - 1 (hm3/a)</td>\n",
       "      <td></td>\n",
       "      <td>1</td>\n",
       "    </tr>\n",
       "    <tr>\n",
       "      <th>9</th>\n",
       "      <td>13</td>\n",
       "      <td>1</td>\n",
       "      <td>Bedeutende Grundwasservorkommen</td>\n",
       "      <td>weniger oder wechselnd ergiebig</td>\n",
       "      <td>meist 5 - 15 (l/s)</td>\n",
       "      <td>meist 0,2 - 1 (hm3/a)</td>\n",
       "      <td>Kalkstein, Dolomit, Gips (Karstwasserleiter)</td>\n",
       "      <td>59</td>\n",
       "    </tr>\n",
       "    <tr>\n",
       "      <th>10</th>\n",
       "      <td>13</td>\n",
       "      <td>2</td>\n",
       "      <td>Bedeutende Grundwasservorkommen</td>\n",
       "      <td>weniger oder wechselnd ergiebig</td>\n",
       "      <td>meist 5 - 15 (l/s)</td>\n",
       "      <td>meist 0,2 - 1 (hm3/a)</td>\n",
       "      <td>Sandstein, Quarzit, Basalt, Kalkmergelstein (Kluftwasserleiter)</td>\n",
       "      <td>96</td>\n",
       "    </tr>\n",
       "    <tr>\n",
       "      <th>11</th>\n",
       "      <td>13</td>\n",
       "      <td>3</td>\n",
       "      <td>Bedeutende Grundwasservorkommen</td>\n",
       "      <td>weniger oder wechselnd ergiebig</td>\n",
       "      <td>meist 5 - 15 (l/s)</td>\n",
       "      <td>meist 0,2 - 1 (hm3/a)</td>\n",
       "      <td>Sand, Kies, Tuff (Porenwasserleiter)</td>\n",
       "      <td>291</td>\n",
       "    </tr>\n",
       "    <tr>\n",
       "      <th>12</th>\n",
       "      <td>14</td>\n",
       "      <td>0</td>\n",
       "      <td>Weniger bedeutende Grundwasservorkommen</td>\n",
       "      <td>örtlich in Brunnen und Quellen große Ergiebigkeit möglich; Nutzung aus technischen und hygienischen Gründen eingeschränk</td>\n",
       "      <td>meist &lt; 5 (l/s)</td>\n",
       "      <td></td>\n",
       "      <td></td>\n",
       "      <td>1</td>\n",
       "    </tr>\n",
       "    <tr>\n",
       "      <th>13</th>\n",
       "      <td>14</td>\n",
       "      <td>1</td>\n",
       "      <td>Weniger bedeutende Grundwasservorkommen</td>\n",
       "      <td>örtlich in Brunnen und Quellen große Ergiebigkeit möglich; Nutzung aus technischen und hygienischen Gründen eingeschränk</td>\n",
       "      <td>meist &lt; 5 (l/s)</td>\n",
       "      <td></td>\n",
       "      <td>Kalkstein, Dolomit, Gips (Karstwasserleiter)</td>\n",
       "      <td>38</td>\n",
       "    </tr>\n",
       "    <tr>\n",
       "      <th>14</th>\n",
       "      <td>14</td>\n",
       "      <td>2</td>\n",
       "      <td>Weniger bedeutende Grundwasservorkommen</td>\n",
       "      <td>örtlich in Brunnen und Quellen große Ergiebigkeit möglich; Nutzung aus technischen und hygienischen Gründen eingeschränk</td>\n",
       "      <td>meist &lt; 5 (l/s)</td>\n",
       "      <td></td>\n",
       "      <td>Sandstein, Quarzit, Basalt, Kalkmergelstein (Kluftwasserleiter)</td>\n",
       "      <td>49</td>\n",
       "    </tr>\n",
       "    <tr>\n",
       "      <th>15</th>\n",
       "      <td>14</td>\n",
       "      <td>3</td>\n",
       "      <td>Weniger bedeutende Grundwasservorkommen</td>\n",
       "      <td>örtlich in Brunnen und Quellen große Ergiebigkeit möglich; Nutzung aus technischen und hygienischen Gründen eingeschränk</td>\n",
       "      <td>meist &lt; 5 (l/s)</td>\n",
       "      <td></td>\n",
       "      <td>Sand, Kies, Tuff (Porenwasserleiter)</td>\n",
       "      <td>88</td>\n",
       "    </tr>\n",
       "    <tr>\n",
       "      <th>16</th>\n",
       "      <td>15</td>\n",
       "      <td>0</td>\n",
       "      <td>Keine bedeutenden Grundwasservorkommen</td>\n",
       "      <td>örtliche Vorkommen können für die Versorgung wichtig sein</td>\n",
       "      <td>meist &lt; 2 (l/s)</td>\n",
       "      <td></td>\n",
       "      <td></td>\n",
       "      <td>190</td>\n",
       "    </tr>\n",
       "    <tr>\n",
       "      <th>17</th>\n",
       "      <td>15</td>\n",
       "      <td>2</td>\n",
       "      <td>Keine bedeutenden Grundwasservorkommen</td>\n",
       "      <td>örtliche Vorkommen können für die Versorgung wichtig sein</td>\n",
       "      <td>meist &lt; 2 (l/s)</td>\n",
       "      <td></td>\n",
       "      <td>Sandstein, Quarzit, Basalt, Kalkmergelstein (Kluftwasserleiter)</td>\n",
       "      <td>1</td>\n",
       "    </tr>\n",
       "  </tbody>\n",
       "</table>\n",
       "</div>"
      ],
      "text/plain": [
       "    erg_id  gestein_id                                bedeutung  \\\n",
       "0        0           0                                            \n",
       "1       11           1          Bedeutende Grundwasservorkommen   \n",
       "2       11           2          Bedeutende Grundwasservorkommen   \n",
       "3       11           3          Bedeutende Grundwasservorkommen   \n",
       "4       12           0          Bedeutende Grundwasservorkommen   \n",
       "5       12           1          Bedeutende Grundwasservorkommen   \n",
       "6       12           2          Bedeutende Grundwasservorkommen   \n",
       "7       12           3          Bedeutende Grundwasservorkommen   \n",
       "8       13           0          Bedeutende Grundwasservorkommen   \n",
       "9       13           1          Bedeutende Grundwasservorkommen   \n",
       "10      13           2          Bedeutende Grundwasservorkommen   \n",
       "11      13           3          Bedeutende Grundwasservorkommen   \n",
       "12      14           0  Weniger bedeutende Grundwasservorkommen   \n",
       "13      14           1  Weniger bedeutende Grundwasservorkommen   \n",
       "14      14           2  Weniger bedeutende Grundwasservorkommen   \n",
       "15      14           3  Weniger bedeutende Grundwasservorkommen   \n",
       "16      15           0   Keine bedeutenden Grundwasservorkommen   \n",
       "17      15           2   Keine bedeutenden Grundwasservorkommen   \n",
       "\n",
       "                                                                                                                  ergiebigke  \\\n",
       "0                                                                                                                              \n",
       "1                                                                                                              sehr ergiebig   \n",
       "2                                                                                                              sehr ergiebig   \n",
       "3                                                                                                              sehr ergiebig   \n",
       "4                                                                                                                   ergiebig   \n",
       "5                                                                                                                   ergiebig   \n",
       "6                                                                                                                   ergiebig   \n",
       "7                                                                                                                   ergiebig   \n",
       "8                                                                                            weniger oder wechselnd ergiebig   \n",
       "9                                                                                            weniger oder wechselnd ergiebig   \n",
       "10                                                                                           weniger oder wechselnd ergiebig   \n",
       "11                                                                                           weniger oder wechselnd ergiebig   \n",
       "12  örtlich in Brunnen und Quellen große Ergiebigkeit möglich; Nutzung aus technischen und hygienischen Gründen eingeschränk   \n",
       "13  örtlich in Brunnen und Quellen große Ergiebigkeit möglich; Nutzung aus technischen und hygienischen Gründen eingeschränk   \n",
       "14  örtlich in Brunnen und Quellen große Ergiebigkeit möglich; Nutzung aus technischen und hygienischen Gründen eingeschränk   \n",
       "15  örtlich in Brunnen und Quellen große Ergiebigkeit möglich; Nutzung aus technischen und hygienischen Gründen eingeschränk   \n",
       "16                                                                 örtliche Vorkommen können für die Versorgung wichtig sein   \n",
       "17                                                                 örtliche Vorkommen können für die Versorgung wichtig sein   \n",
       "\n",
       "               entn_bru              entn_werk  \\\n",
       "0                                                \n",
       "1      meist > 40 (l/s)     häufig > 5 (hm3/a)   \n",
       "2      meist > 40 (l/s)     häufig > 5 (hm3/a)   \n",
       "3      meist > 40 (l/s)     häufig > 5 (hm3/a)   \n",
       "4   meist 15 - 40 (l/s)    meist 1 - 5 (hm3/a)   \n",
       "5   meist 15 - 40 (l/s)    meist 1 - 5 (hm3/a)   \n",
       "6   meist 15 - 40 (l/s)    meist 1 - 5 (hm3/a)   \n",
       "7   meist 15 - 40 (l/s)    meist 1 - 5 (hm3/a)   \n",
       "8    meist 5 - 15 (l/s)  meist 0,2 - 1 (hm3/a)   \n",
       "9    meist 5 - 15 (l/s)  meist 0,2 - 1 (hm3/a)   \n",
       "10   meist 5 - 15 (l/s)  meist 0,2 - 1 (hm3/a)   \n",
       "11   meist 5 - 15 (l/s)  meist 0,2 - 1 (hm3/a)   \n",
       "12      meist < 5 (l/s)                          \n",
       "13      meist < 5 (l/s)                          \n",
       "14      meist < 5 (l/s)                          \n",
       "15      meist < 5 (l/s)                          \n",
       "16      meist < 2 (l/s)                          \n",
       "17      meist < 2 (l/s)                          \n",
       "\n",
       "                                                            gestein  count  \n",
       "0                                                                      311  \n",
       "1                      Kalkstein, Dolomit, Gips (Karstwasserleiter)      9  \n",
       "2   Sandstein, Quarzit, Basalt, Kalkmergelstein (Kluftwasserleiter)      1  \n",
       "3                              Sand, Kies, Tuff (Porenwasserleiter)     55  \n",
       "4                                                                        3  \n",
       "5                      Kalkstein, Dolomit, Gips (Karstwasserleiter)     30  \n",
       "6   Sandstein, Quarzit, Basalt, Kalkmergelstein (Kluftwasserleiter)     46  \n",
       "7                              Sand, Kies, Tuff (Porenwasserleiter)    204  \n",
       "8                                                                        1  \n",
       "9                      Kalkstein, Dolomit, Gips (Karstwasserleiter)     59  \n",
       "10  Sandstein, Quarzit, Basalt, Kalkmergelstein (Kluftwasserleiter)     96  \n",
       "11                             Sand, Kies, Tuff (Porenwasserleiter)    291  \n",
       "12                                                                       1  \n",
       "13                     Kalkstein, Dolomit, Gips (Karstwasserleiter)     38  \n",
       "14  Sandstein, Quarzit, Basalt, Kalkmergelstein (Kluftwasserleiter)     49  \n",
       "15                             Sand, Kies, Tuff (Porenwasserleiter)     88  \n",
       "16                                                                     190  \n",
       "17  Sandstein, Quarzit, Basalt, Kalkmergelstein (Kluftwasserleiter)      1  "
      ]
     },
     "metadata": {},
     "output_type": "display_data"
    }
   ],
   "source": [
    "file = next(iterator)\n",
    "make_summary(file)"
   ]
  },
  {
   "cell_type": "markdown",
   "metadata": {},
   "source": [
    "Dataset ergw1000_gwerg__v11_poly\n",
    "- combination of ergw1000_gwerg_erg_v11_poly and ergw1000_gwerg_gestein_v1_poly \n",
    "- contains information on the importance of the groundwater reserves as well as on the water bearing rocks\n",
    "- can show if the types of water bearing rocks and the groundwater relevance are relate, and vice versa\n",
    "- columns \"Shape_STAr\" and \"Shape_STLe\" refer to the size and cirumference of the denoted areas"
   ]
  },
  {
   "cell_type": "markdown",
   "metadata": {},
   "source": [
    "#### 2.3​ Investigate spatial relationships between different datasets\n",
    "\n",
    "##### How do groundwater regions overlap with mining areas?"
   ]
  },
  {
   "cell_type": "code",
   "execution_count": 17,
   "metadata": {},
   "outputs": [],
   "source": [
    "# mining data: add id to identify mining regions\n",
    "mining_gdf = gdfs['bergbaugebiete__v1_poly'].reset_index(names='mining_id')\n",
    "# groundwater data: filter only for \"Bedeutende Grundwasservorkommen\" (relevant groundwater storage), corresponding to 'erg_id' 11,12,13\n",
    "water_gdf = gdfs['gwerg_erg_v11_poly']\n",
    "water_gdf= water_gdf[water_gdf[\"erg_id\"].isin([11,12,13])]"
   ]
  },
  {
   "cell_type": "code",
   "execution_count": 18,
   "metadata": {},
   "outputs": [],
   "source": [
    "# perform spatial join\n",
    "water_mining_gdf = gpd.sjoin(water_gdf, mining_gdf,  how=\"left\", predicate=\"intersects\")\n"
   ]
  },
  {
   "cell_type": "code",
   "execution_count": 19,
   "metadata": {},
   "outputs": [
    {
     "name": "stdout",
     "output_type": "stream",
     "text": [
      "17 of the 17 mining areas in Germany overlap with relevant groundwater areas\n"
     ]
    }
   ],
   "source": [
    "print(f\"{water_mining_gdf['mining_id'].nunique()} of the {mining_gdf['mining_id'].nunique()} mining areas in Germany overlap with relevant groundwater areas\")"
   ]
  },
  {
   "cell_type": "code",
   "execution_count": 20,
   "metadata": {},
   "outputs": [
    {
     "name": "stdout",
     "output_type": "stream",
     "text": [
      "True\n",
      "True\n"
     ]
    }
   ],
   "source": [
    "# reinsure that both shapefiles are in projected coordinate system (we already checked that it is the same CRS and projection in the beginning of the notebook)\n",
    "print(mining_gdf.crs.is_projected)\n",
    "print(water_gdf.crs.is_projected)"
   ]
  },
  {
   "cell_type": "code",
   "execution_count": 40,
   "metadata": {},
   "outputs": [
    {
     "name": "stdout",
     "output_type": "stream",
     "text": [
      "The total overlapping area of mining zones with groundwater zones is: 4711.51 square kms\n",
      "The share of mining areas overlapping with relevant groundwater areas is: 0.74\n",
      "The share of relevant groundwater carrying area overlapping with mining areas is: 0.02\n"
     ]
    }
   ],
   "source": [
    "# Calculate the overlapping area\n",
    "overlapping_areas = gpd.overlay(mining_gdf, water_gdf, how=\"intersection\")\n",
    "\n",
    "# Calculate the area of overlapping regions\n",
    "overlapping_areas[\"overlap_area\"] = overlapping_areas.geometry.area\n",
    "\n",
    "# Sum total overlap\n",
    "total_overlap = overlapping_areas[\"overlap_area\"].sum()\n",
    "\n",
    "# Show total overlap\n",
    "overlap_km2 = round(total_overlap/1_000_000, 2)\n",
    "print(f\"The total overlapping area of mining zones with groundwater zones is: {overlap_km2} square kms\")\n",
    "\n",
    "# as share of all mining areas\n",
    "mining_area_km2 = (mining_gdf.geometry.area.sum() / 1_000_000)\n",
    "print(f\"The share of mining areas overlapping with relevant groundwater areas is: {round(overlap_km2 / mining_area_km2,2)}\")\n",
    "\n",
    "# mining areas as share of relevant groundwater areas\n",
    "water_area_km2 = water_gdf.geometry.area.sum() / 1_000_000\n",
    "print(f\"The share of relevant groundwater carrying area overlapping with mining areas is: {round(overlap_km2 / water_area_km2,2)}\")"
   ]
  },
  {
   "cell_type": "markdown",
   "metadata": {},
   "source": [
    "##### Are mining areas related to specific geological formations/rock types?\n"
   ]
  },
  {
   "cell_type": "code",
   "execution_count": 22,
   "metadata": {},
   "outputs": [],
   "source": [
    "geo_gdf = gdfs['gwerg_gestein_v1_poly']\n",
    "geo_gdf.fillna(\"not applicable\", inplace=True)\n"
   ]
  },
  {
   "cell_type": "code",
   "execution_count": 23,
   "metadata": {},
   "outputs": [],
   "source": [
    "# perform spatial join\n",
    "mining_geo_gdf = gpd.sjoin( mining_gdf, geo_gdf,  how=\"left\", predicate=\"intersects\")"
   ]
  },
  {
   "cell_type": "code",
   "execution_count": 24,
   "metadata": {},
   "outputs": [
    {
     "name": "stdout",
     "output_type": "stream",
     "text": [
      "True\n",
      "True\n"
     ]
    }
   ],
   "source": [
    "# reinsure that both shapefiles are in projected coordinate system (we already checked that it is the same CRS and projection in the beginning of the notebook)\n",
    "print(mining_gdf.crs.is_projected)\n",
    "print(geo_gdf.crs.is_projected)"
   ]
  },
  {
   "cell_type": "code",
   "execution_count": 25,
   "metadata": {},
   "outputs": [],
   "source": [
    "# get the geological composition of the mining areas\n",
    "mining_geo_gdf['area'] = mining_geo_gdf.geometry.area\n",
    "mining_geo_area = mining_geo_gdf.groupby(\"gestein\")[\"area\"].sum() / 1_000_000 # to square kms\n",
    "mining_geo_area = round(mining_geo_area / (mining_geo_gdf.geometry.area.sum() / 1_000_000), 2)\n",
    "mining_geo_area  = pd.DataFrame(mining_geo_area).rename(columns = {'area': 'share of total area'})"
   ]
  },
  {
   "cell_type": "code",
   "execution_count": 26,
   "metadata": {},
   "outputs": [
    {
     "name": "stdout",
     "output_type": "stream",
     "text": [
      "Geological composition of mining areas in Germany\n"
     ]
    },
    {
     "data": {
      "text/html": [
       "<div>\n",
       "<style scoped>\n",
       "    .dataframe tbody tr th:only-of-type {\n",
       "        vertical-align: middle;\n",
       "    }\n",
       "\n",
       "    .dataframe tbody tr th {\n",
       "        vertical-align: top;\n",
       "    }\n",
       "\n",
       "    .dataframe thead th {\n",
       "        text-align: right;\n",
       "    }\n",
       "</style>\n",
       "<table border=\"1\" class=\"dataframe\">\n",
       "  <thead>\n",
       "    <tr style=\"text-align: right;\">\n",
       "      <th></th>\n",
       "      <th>share of total area</th>\n",
       "    </tr>\n",
       "    <tr>\n",
       "      <th>gestein</th>\n",
       "      <th></th>\n",
       "    </tr>\n",
       "  </thead>\n",
       "  <tbody>\n",
       "    <tr>\n",
       "      <th>not applicable</th>\n",
       "      <td>0.34</td>\n",
       "    </tr>\n",
       "    <tr>\n",
       "      <th>Sand, Kies, Tuff (Porenwasserleiter)</th>\n",
       "      <td>0.33</td>\n",
       "    </tr>\n",
       "    <tr>\n",
       "      <th>Sandstein, Quarzit, Basalt, Kalkmergelstein (Kluftwasserleiter)</th>\n",
       "      <td>0.19</td>\n",
       "    </tr>\n",
       "    <tr>\n",
       "      <th>Kalkstein, Dolomit, Gips (Karstwasserleiter)</th>\n",
       "      <td>0.14</td>\n",
       "    </tr>\n",
       "  </tbody>\n",
       "</table>\n",
       "</div>"
      ],
      "text/plain": [
       "                                                                 share of total area\n",
       "gestein                                                                             \n",
       "not applicable                                                                  0.34\n",
       "Sand, Kies, Tuff (Porenwasserleiter)                                            0.33\n",
       "Sandstein, Quarzit, Basalt, Kalkmergelstein (Kluftwasserleiter)                 0.19\n",
       "Kalkstein, Dolomit, Gips (Karstwasserleiter)                                    0.14"
      ]
     },
     "execution_count": 26,
     "metadata": {},
     "output_type": "execute_result"
    }
   ],
   "source": [
    "print('Geological composition of mining areas in Germany')\n",
    "mining_geo_area.sort_values(ascending = False, by = ['share of total area'])"
   ]
  },
  {
   "cell_type": "markdown",
   "metadata": {},
   "source": [
    "The largest share of mining area does not consist of any of the 3 geological formations. The geological composition of the remaining share of the mining area is as indicated in the table above."
   ]
  },
  {
   "cell_type": "markdown",
   "metadata": {},
   "source": [
    "##### How do relevant groundwater regions overlap with geological formations?"
   ]
  },
  {
   "cell_type": "code",
   "execution_count": 27,
   "metadata": {},
   "outputs": [],
   "source": [
    "# perform spatial join\n",
    "water_geo_gdf = gpd.sjoin(water_gdf, geo_gdf,  how=\"left\", predicate=\"intersects\")"
   ]
  },
  {
   "cell_type": "code",
   "execution_count": 28,
   "metadata": {},
   "outputs": [
    {
     "name": "stdout",
     "output_type": "stream",
     "text": [
      "True\n",
      "True\n"
     ]
    }
   ],
   "source": [
    "# reinsure that both shapefiles are in projected coordinate system (we already checked that it is the same CRS and projection in the beginning of the notebook)\n",
    "print(water_gdf.crs.is_projected)\n",
    "print(geo_gdf.crs.is_projected)"
   ]
  },
  {
   "cell_type": "code",
   "execution_count": 29,
   "metadata": {},
   "outputs": [],
   "source": [
    "# get the geological composition of the groundwater areas\n",
    "water_geo_gdf['area'] = water_geo_gdf.geometry.area\n",
    "water_geo_area = water_geo_gdf.groupby(\"gestein\")[\"area\"].sum() / 1_000_000 # to square kms\n",
    "water_geo_area = round(water_geo_area / (water_geo_gdf.geometry.area.sum() / 1_000_000), 2)\n",
    "water_geo_area  = pd.DataFrame(water_geo_area).rename(columns = {'area': 'share of total area'})"
   ]
  },
  {
   "cell_type": "code",
   "execution_count": 31,
   "metadata": {},
   "outputs": [
    {
     "name": "stdout",
     "output_type": "stream",
     "text": [
      "Geological composition of relevant groundwater areas\n"
     ]
    },
    {
     "data": {
      "text/html": [
       "<div>\n",
       "<style scoped>\n",
       "    .dataframe tbody tr th:only-of-type {\n",
       "        vertical-align: middle;\n",
       "    }\n",
       "\n",
       "    .dataframe tbody tr th {\n",
       "        vertical-align: top;\n",
       "    }\n",
       "\n",
       "    .dataframe thead th {\n",
       "        text-align: right;\n",
       "    }\n",
       "</style>\n",
       "<table border=\"1\" class=\"dataframe\">\n",
       "  <thead>\n",
       "    <tr style=\"text-align: right;\">\n",
       "      <th></th>\n",
       "      <th>share of total area</th>\n",
       "    </tr>\n",
       "    <tr>\n",
       "      <th>gestein</th>\n",
       "      <th></th>\n",
       "    </tr>\n",
       "  </thead>\n",
       "  <tbody>\n",
       "    <tr>\n",
       "      <th>Sand, Kies, Tuff (Porenwasserleiter)</th>\n",
       "      <td>0.35</td>\n",
       "    </tr>\n",
       "    <tr>\n",
       "      <th>not applicable</th>\n",
       "      <td>0.33</td>\n",
       "    </tr>\n",
       "    <tr>\n",
       "      <th>Sandstein, Quarzit, Basalt, Kalkmergelstein (Kluftwasserleiter)</th>\n",
       "      <td>0.17</td>\n",
       "    </tr>\n",
       "    <tr>\n",
       "      <th>Kalkstein, Dolomit, Gips (Karstwasserleiter)</th>\n",
       "      <td>0.15</td>\n",
       "    </tr>\n",
       "  </tbody>\n",
       "</table>\n",
       "</div>"
      ],
      "text/plain": [
       "                                                                 share of total area\n",
       "gestein                                                                             \n",
       "Sand, Kies, Tuff (Porenwasserleiter)                                            0.35\n",
       "not applicable                                                                  0.33\n",
       "Sandstein, Quarzit, Basalt, Kalkmergelstein (Kluftwasserleiter)                 0.17\n",
       "Kalkstein, Dolomit, Gips (Karstwasserleiter)                                    0.15"
      ]
     },
     "metadata": {},
     "output_type": "display_data"
    }
   ],
   "source": [
    "print(\"Geological composition of relevant groundwater areas\")\n",
    "display(water_geo_area.sort_values(ascending=False, by = ['share of total area']))"
   ]
  },
  {
   "cell_type": "markdown",
   "metadata": {},
   "source": [
    "The largest share of the relevant groundwater carrying area is composed of \"Sand, Kies, Tuff (Porenwasserleiter)\", the remaining area as indicated in the table above."
   ]
  }
 ],
 "metadata": {
  "kernelspec": {
   "display_name": "base",
   "language": "python",
   "name": "python3"
  },
  "language_info": {
   "codemirror_mode": {
    "name": "ipython",
    "version": 3
   },
   "file_extension": ".py",
   "mimetype": "text/x-python",
   "name": "python",
   "nbconvert_exporter": "python",
   "pygments_lexer": "ipython3",
   "version": "3.12.7"
  }
 },
 "nbformat": 4,
 "nbformat_minor": 2
}
